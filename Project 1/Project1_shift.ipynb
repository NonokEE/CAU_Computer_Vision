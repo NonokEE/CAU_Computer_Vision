{
 "cells": [
  {
   "cell_type": "markdown",
   "metadata": {},
   "source": [
    "## import library"
   ]
  },
  {
   "cell_type": "code",
   "execution_count": null,
   "metadata": {},
   "outputs": [],
   "source": [
    "import cv2\n",
    "import numpy as np\n",
    "import matplotlib.pyplot as plt"
   ]
  },
  {
   "cell_type": "code",
   "execution_count": null,
   "metadata": {},
   "outputs": [],
   "source": [
    "def cv2_imshow(name: str, src):\n",
    "    cv2.namedWindow(name, cv2.WINDOW_NORMAL)\n",
    "    cv2.resizeWindow(name, 800, 800)\n",
    "    cv2.moveWindow(name, 500, 100)\n",
    "\n",
    "    cv2.imshow(name, src)\n",
    "    cv2.waitKey(0)\n",
    "    cv2.destroyAllWindows()"
   ]
  },
  {
   "cell_type": "markdown",
   "metadata": {},
   "source": [
    "## Click and get patch for 1st.jpg\n",
    "### Get coordinate"
   ]
  },
  {
   "cell_type": "code",
   "execution_count": null,
   "metadata": {},
   "outputs": [],
   "source": [
    "coord1 = []\n",
    "\n",
    "def getCoord_1(event, x, y, flags, param):\n",
    "    if event == cv2.EVENT_LBUTTONDOWN:\n",
    "        coord1.append((y,x))\n",
    "        print(x, y)"
   ]
  },
  {
   "cell_type": "code",
   "execution_count": null,
   "metadata": {},
   "outputs": [],
   "source": [
    "image1_original = cv2.imread(\"1st_shifted.jpg\")\n",
    "\n",
    "cv2.namedWindow(\"1st\", cv2.WINDOW_NORMAL)\n",
    "cv2.resizeWindow(\"1st\", 800, 800)\n",
    "cv2.moveWindow(\"1st\", 500, 100)\n",
    "cv2.setMouseCallback(\"1st\", getCoord_1)\n",
    "\n",
    "cv2.imshow(\"1st\", image1_original)\n",
    "cv2.waitKey(0)\n",
    "cv2.destroyAllWindows()"
   ]
  },
  {
   "cell_type": "markdown",
   "metadata": {},
   "source": [
    "### Make blurred, grayscaled images"
   ]
  },
  {
   "cell_type": "code",
   "execution_count": null,
   "metadata": {},
   "outputs": [],
   "source": [
    "image1_blur = cv2.GaussianBlur(image1_original, (0, 0), 1)\n",
    "image1_gray = cv2.cvtColor(image1_original, cv2.COLOR_BGR2GRAY)\n",
    "image1_gb = cv2.GaussianBlur(image1_gray, (0,0), 1)\n",
    "\n",
    "# cv2_imshow(\"image1_original\", image1_original)\n",
    "# cv2_imshow(\"image1_blur\", image1_blur)\n",
    "# cv2_imshow(\"image1_gray\", image1_gray)\n",
    "# cv2_imshow(\"image1_gb\", image1_gb)"
   ]
  },
  {
   "cell_type": "markdown",
   "metadata": {},
   "source": [
    "### Make patch for each clicked points"
   ]
  },
  {
   "cell_type": "code",
   "execution_count": null,
   "metadata": {},
   "outputs": [],
   "source": [
    "patch_size = 4\n",
    "patch1_original = [image1_original[coord1[i][0]-patch_size:coord1[i][0]+patch_size+1, coord1[i][1]-patch_size:coord1[i][1]+patch_size+1] for i in range(len(coord1))]\n",
    "patch1_blur = [image1_blur[coord1[i][0]-patch_size:coord1[i][0]+patch_size+1, coord1[i][1]-patch_size:coord1[i][1]+patch_size+1] for i in range(len(coord1))]\n",
    "patch1_gray = [image1_gray[coord1[i][0]-patch_size:coord1[i][0]+patch_size+1, coord1[i][1]-patch_size:coord1[i][1]+patch_size+1] for i in range(len(coord1))]\n",
    "patch1_gb = [image1_gb[coord1[i][0]-patch_size:coord1[i][0]+patch_size+1, coord1[i][1]-patch_size:coord1[i][1]+patch_size+1] for i in range(len(coord1))]"
   ]
  },
  {
   "cell_type": "markdown",
   "metadata": {},
   "source": [
    "### Show patches of 1st.jpg"
   ]
  },
  {
   "cell_type": "code",
   "execution_count": null,
   "metadata": {},
   "outputs": [],
   "source": [
    "# for i in range(len(patch1_original)):\n",
    "#     wname = \"1st_\" + str(i)\n",
    "#     cv2_imshow(wname, patch1_original[i])\n",
    "\n",
    "# for i in range(len(patch1_blur)):\n",
    "#     wname = \"1st_\" + str(i)\n",
    "#     cv2_imshow(wname, patch1_blur[i])\n",
    "\n",
    "# for i in range(len(patch1_gray)):\n",
    "#     wname = \"1st_\" + str(i)\n",
    "#     cv2_imshow(wname, patch1_gray[i])\n",
    "\n",
    "# for i in range(len(patch1_gb)):\n",
    "#     wname = \"1st_\" + str(i)\n",
    "#     cv2_imshow(wname, patch1_gb[i])"
   ]
  },
  {
   "cell_type": "markdown",
   "metadata": {},
   "source": [
    "## Click and get patch for 2st.jpg\n",
    "### Get coordinate"
   ]
  },
  {
   "cell_type": "code",
   "execution_count": null,
   "metadata": {},
   "outputs": [],
   "source": [
    "coord2 = []\n",
    "\n",
    "def getCoord_2(event, x, y, flags, param):\n",
    "    if event == cv2.EVENT_LBUTTONDOWN:\n",
    "        coord2.append((y,x))\n",
    "        print(x, y)"
   ]
  },
  {
   "cell_type": "code",
   "execution_count": null,
   "metadata": {},
   "outputs": [],
   "source": [
    "image2_original = cv2.imread(\"2nd.jpg\")\n",
    "\n",
    "cv2.namedWindow(\"2nd\", cv2.WINDOW_NORMAL)\n",
    "cv2.resizeWindow(\"2nd\", 800, 800)\n",
    "cv2.moveWindow(\"2nd\", 500, 100)\n",
    "cv2.setMouseCallback(\"2nd\", getCoord_2)\n",
    "\n",
    "cv2.imshow(\"2nd\", image2_original)\n",
    "cv2.waitKey(0)\n",
    "cv2.destroyAllWindows()"
   ]
  },
  {
   "cell_type": "markdown",
   "metadata": {},
   "source": [
    "### Make blurred, grayscaled images"
   ]
  },
  {
   "cell_type": "code",
   "execution_count": null,
   "metadata": {},
   "outputs": [],
   "source": [
    "image2_blur = cv2.GaussianBlur(image2_original, (0, 0), 1)\n",
    "image2_gray = cv2.cvtColor(image2_original, cv2.COLOR_BGR2GRAY)\n",
    "image2_gb = cv2.GaussianBlur(image2_gray, (0,0), 1)\n",
    "\n",
    "# cv2_imshow(\"image2_original\", image2_original)\n",
    "# cv2_imshow(\"image2_blur\", image2_blur)\n",
    "# cv2_imshow(\"image2_gray\", image2_gray)\n",
    "# cv2_imshow(\"image2_gb\", image2_gb)"
   ]
  },
  {
   "cell_type": "markdown",
   "metadata": {},
   "source": [
    "### Make patch for each clicked points"
   ]
  },
  {
   "cell_type": "code",
   "execution_count": null,
   "metadata": {},
   "outputs": [],
   "source": [
    "patch_size = 4\n",
    "patch2_original = [image2_original[coord1[i][0]-patch_size:coord1[i][0]+patch_size+1, coord1[i][1]-patch_size:coord1[i][1]+patch_size+1] for i in range(len(coord1))]\n",
    "patch2_blur = [image2_blur[coord1[i][0]-patch_size:coord1[i][0]+patch_size+1, coord1[i][1]-patch_size:coord1[i][1]+patch_size+1] for i in range(len(coord1))]\n",
    "patch2_gray = [image2_gray[coord1[i][0]-patch_size:coord1[i][0]+patch_size+1, coord1[i][1]-patch_size:coord1[i][1]+patch_size+1] for i in range(len(coord1))]\n",
    "patch2_gb = [image2_gb[coord1[i][0]-patch_size:coord1[i][0]+patch_size+1, coord1[i][1]-patch_size:coord1[i][1]+patch_size+1] for i in range(len(coord1))]"
   ]
  },
  {
   "cell_type": "markdown",
   "metadata": {},
   "source": [
    "### Show patches of 2nd.jpg"
   ]
  },
  {
   "cell_type": "code",
   "execution_count": null,
   "metadata": {},
   "outputs": [],
   "source": [
    "# for i in range(len(patch2_original)):\n",
    "#     wname = \"2nd_\" + str(i)\n",
    "#     cv2_imshow(wname, patch2_original[i])\n",
    "\n",
    "# for i in range(len(patch2_blur)):\n",
    "#     wname = \"2nd_\" + str(i)\n",
    "#     cv2_imshow(wname, patch2_blur[i])\n",
    "\n",
    "# for i in range(len(patch2_gray)):\n",
    "#     wname = \"2nd_\" + str(i)\n",
    "#     cv2_imshow(wname, patch2_gray[i])\n",
    "\n",
    "# for i in range(len(patch2_gb)):\n",
    "#     wname = \"2nd_\" + str(i)\n",
    "#     cv2_imshow(wname, patch2_gb[i])"
   ]
  },
  {
   "cell_type": "markdown",
   "metadata": {},
   "source": [
    "## Histograms"
   ]
  },
  {
   "cell_type": "code",
   "execution_count": null,
   "metadata": {},
   "outputs": [],
   "source": [
    "hist_bin_gradient = 360/30\n",
    "hist_bin_color = 256/32"
   ]
  },
  {
   "cell_type": "code",
   "execution_count": null,
   "metadata": {},
   "outputs": [],
   "source": [
    "def norm_gradient(src):\n",
    "    \n",
    "    x_forward = np.concatenate([src[:, 1:], src[:, -1:]], axis = 1)\n",
    "    x_backward = np.concatenate([src[:, :1], src[:, :-1]], axis = 1)\n",
    "    Dx = np.subtract(x_forward, x_backward)/2\n",
    "\n",
    "    y_forward = np.concatenate([src[1:, :], src[-1:, :]])\n",
    "    y_backward = np.concatenate([src[:1, :], src[:-1, :]])\n",
    "    Dy = np.subtract(y_forward, y_backward)/2\n",
    "\n",
    "    norm_gradient = np.sqrt(np.add(np.square(Dx), np.square(Dy)))\n",
    "    norm_gradient = np.uint8(np.around(norm_gradient))\n",
    "    \n",
    "    return norm_gradient"
   ]
  },
  {
   "cell_type": "code",
   "execution_count": null,
   "metadata": {},
   "outputs": [],
   "source": [
    "def gradient_histogram_color(src_list):\n",
    "    hist_list = []\n",
    "\n",
    "    for i in range(len(src_list)):\n",
    "        print(f\"- {i+1}th -\")\n",
    "        temp = []\n",
    "\n",
    "        channels = cv2.split(src_list[i])\n",
    "        colors = ['b', 'g', 'r']\n",
    "\n",
    "        for ch, color in zip(channels, colors):\n",
    "            src = cv2.normalize(ch, None, 0, 360, cv2.NORM_MINMAX)\n",
    "            src = norm_gradient(src)\n",
    "            hist = cv2.calcHist([src], [0], None, [int(360/hist_bin_gradient)], [0,360])\n",
    "            temp.append(hist)\n",
    "            plt.plot(hist, color=color)\n",
    "        plt.show()\n",
    "        hist_list.append(temp)\n",
    "\n",
    "    return hist_list"
   ]
  },
  {
   "cell_type": "code",
   "execution_count": 43,
   "metadata": {},
   "outputs": [],
   "source": [
    "def color_histogram_color(src_list):\n",
    "    hist_list = []\n",
    "\n",
    "    for i in range(len(src_list)):\n",
    "        print(f\"- {i+1}th -\")\n",
    "        temp = []\n",
    "\n",
    "        channels = cv2.split(src_list[i])\n",
    "        colors = ['b', 'g', 'r']\n",
    "\n",
    "        for ch, color in zip(channels, colors):\n",
    "            src = cv2.normalize(ch, None, 0, 255, cv2.NORM_MINMAX)\n",
    "            hist = cv2.calcHist([src], [0], None, [int(256/hist_bin_color)], [0,256])\n",
    "            temp.append(hist)\n",
    "            plt.plot(hist, color=color)\n",
    "        plt.show()\n",
    "        hist_list.append(temp)\n",
    "\n",
    "    return hist_list"
   ]
  },
  {
   "cell_type": "code",
   "execution_count": null,
   "metadata": {},
   "outputs": [],
   "source": [
    "def gradient_histogram_gray(src_list):\n",
    "    hist_list = []\n",
    "\n",
    "    for i in range(len(src_list)):\n",
    "        print(f\"- {i+1}th -\")\n",
    "        src = cv2.normalize(src_list[i], None, 0, 360, cv2.NORM_MINMAX)\n",
    "        src = norm_gradient(src)\n",
    "        hist = cv2.calcHist([src], [0], None, [int(360/hist_bin_gradient)], [0, 360])\n",
    "        hist_list.append(hist)\n",
    "        plt.plot(hist)\n",
    "        plt.show()\n",
    "\n",
    "    return hist_list"
   ]
  },
  {
   "cell_type": "code",
   "execution_count": null,
   "metadata": {},
   "outputs": [],
   "source": [
    "def color_histogram_gray(src_list):\n",
    "    hist_list = []\n",
    "\n",
    "    for i in range(len(src_list)):\n",
    "        print(f\"- {i+1}th -\")\n",
    "        src = cv2.normalize(src_list[i], None, 0, 255, cv2.NORM_MINMAX)\n",
    "        hist = cv2.calcHist([src], [0], None, [int(256/hist_bin_gradient)], [0, 256])\n",
    "        hist_list.append(hist)\n",
    "        plt.plot(hist)\n",
    "        plt.show()\n",
    "\n",
    "    return hist_list"
   ]
  },
  {
   "cell_type": "markdown",
   "metadata": {},
   "source": [
    "### 1) Color images\n",
    "#### (1) None_blur\n",
    "##### a. Gradient Histogram"
   ]
  },
  {
   "cell_type": "code",
   "execution_count": null,
   "metadata": {},
   "outputs": [],
   "source": [
    "print(\"!!!!!  Color - NoneBlur - Gradient Histogram  !!!!!\")\n",
    "\n",
    "print(\"*** 1st.jpg ****\")\n",
    "hl1_CNG = gradient_histogram_color(patch1_original)\n",
    "\n",
    "print(\"*** 2nd.jpg ****\")\n",
    "hl2_CNG = gradient_histogram_color(patch2_original)"
   ]
  },
  {
   "cell_type": "markdown",
   "metadata": {},
   "source": [
    "##### b. Color Histogram"
   ]
  },
  {
   "cell_type": "code",
   "execution_count": null,
   "metadata": {},
   "outputs": [],
   "source": [
    "print(\"!!!!!  Color - NoneBlur - Color Histogram  !!!!!\")\n",
    "\n",
    "print(\"*** 1st.jpg ****\")\n",
    "hl1_CNC = color_histogram_color(patch1_original)\n",
    "\n",
    "print(\"*** 2nd.jpg ****\")\n",
    "hl2_CNC = color_histogram_color(patch2_original)"
   ]
  },
  {
   "cell_type": "markdown",
   "metadata": {},
   "source": [
    "#### (2) Blur\n",
    "##### a. Gradient Histogram"
   ]
  },
  {
   "cell_type": "code",
   "execution_count": null,
   "metadata": {},
   "outputs": [],
   "source": [
    "print(\"!!!!!  Color - Blur - Gradient Histogram  !!!!!\")\n",
    "\n",
    "print(\"*** 1st.jpg ****\")\n",
    "hl1_CBG = gradient_histogram_color(patch1_blur)\n",
    "\n",
    "print(\"*** 2nd.jpg ****\")\n",
    "hl2_CBG = gradient_histogram_color(patch2_blur)"
   ]
  },
  {
   "cell_type": "markdown",
   "metadata": {},
   "source": [
    "##### b. Color Histogram"
   ]
  },
  {
   "cell_type": "code",
   "execution_count": null,
   "metadata": {},
   "outputs": [],
   "source": [
    "print(\"!!!!!  Color - Blur - Color Histogram  !!!!!\")\n",
    "\n",
    "print(\"*** 1st.jpg ****\")\n",
    "hl1_CBC = color_histogram_color(patch1_blur)\n",
    "\n",
    "print(\"*** 2nd.jpg ****\")\n",
    "hl2_CBC = color_histogram_color(patch2_blur)"
   ]
  },
  {
   "cell_type": "markdown",
   "metadata": {},
   "source": [
    "### 2) Gray images\n",
    "#### (1) None_blur\n",
    "##### a. Gradient Histogram"
   ]
  },
  {
   "cell_type": "code",
   "execution_count": null,
   "metadata": {},
   "outputs": [],
   "source": [
    "print(\"!!!!!  Gray - NoneBlur - Gradient Histogram  !!!!!\")\n",
    "\n",
    "print(\"*** 1st.jpg ****\")\n",
    "hl1_GNG = gradient_histogram_gray(patch1_gray)\n",
    "\n",
    "print(\"*** 2nd.jpg ****\")\n",
    "hl2_GNG = gradient_histogram_gray(patch2_gray)"
   ]
  },
  {
   "cell_type": "markdown",
   "metadata": {},
   "source": [
    "##### b. Color Histogram(brightness)"
   ]
  },
  {
   "cell_type": "code",
   "execution_count": null,
   "metadata": {},
   "outputs": [],
   "source": [
    "print(\"!!!!!  Gray - NoneBlur - Color Histogram  !!!!!\")\n",
    "\n",
    "print(\"*** 1st.jpg ****\")\n",
    "hl1_GNC = gradient_histogram_color(patch1_gray)\n",
    "\n",
    "print(\"*** 2nd.jpg ****\")\n",
    "hl2_GNC = gradient_histogram_color(patch2_gray)"
   ]
  },
  {
   "cell_type": "markdown",
   "metadata": {},
   "source": [
    "#### (2) Blur\n",
    "##### a. Gradient Histogram"
   ]
  },
  {
   "cell_type": "code",
   "execution_count": null,
   "metadata": {},
   "outputs": [],
   "source": [
    "print(\"!!!!!  Gray - Blur - Gradient Histogram  !!!!!\")\n",
    "\n",
    "print(\"*** 1st.jpg ****\")\n",
    "hl1_GBG = gradient_histogram_gray(patch1_gb)\n",
    "\n",
    "print(\"*** 2nd.jpg ****\")\n",
    "hl2_GBG = gradient_histogram_gray(patch2_gb)"
   ]
  },
  {
   "cell_type": "markdown",
   "metadata": {},
   "source": [
    "##### b. Color Histogram"
   ]
  },
  {
   "cell_type": "code",
   "execution_count": null,
   "metadata": {},
   "outputs": [],
   "source": [
    "print(\"!!!!!  Gray - Blur - Color Histogram  !!!!!\")\n",
    "\n",
    "print(\"*** 1st.jpg ****\")\n",
    "hl1_GBC = color_histogram_gray(patch1_gb)\n",
    "\n",
    "print(\"*** 2nd.jpg ****\")\n",
    "hl2_GBC = color_histogram_gray(patch2_gb)"
   ]
  },
  {
   "cell_type": "markdown",
   "metadata": {},
   "source": [
    "## Matching\n",
    "### Calculate similarity"
   ]
  },
  {
   "cell_type": "code",
   "execution_count": null,
   "metadata": {},
   "outputs": [],
   "source": [
    "def matching_color(hist1, hist2):\n",
    "    mse = []\n",
    "    for h1 in range(4):\n",
    "        h1_mse = []\n",
    "        for h2 in range(4):\n",
    "            h1_mse.append(np.sum(np.square(np.subtract(hist1[h1], hist2[h2])).mean()))\n",
    "        mse.append(h1_mse)\n",
    "\n",
    "    res = []\n",
    "    for h1 in range(4):\n",
    "        min = 99999999999\n",
    "        index = None\n",
    "        for h2 in range(4):\n",
    "            if mse[h1][h2] < min:\n",
    "                min = mse[h1][h2]\n",
    "                index = h2\n",
    "        res.append(index)\n",
    "            \n",
    "    return (mse, res)\n"
   ]
  },
  {
   "cell_type": "code",
   "execution_count": null,
   "metadata": {},
   "outputs": [],
   "source": [
    "def matching_gray(hist1, hist2):\n",
    "    mse = []\n",
    "    for h1 in range(4):\n",
    "        h1_mse = []\n",
    "        for h2 in range(4):\n",
    "            h1_mse.append(np.square(np.subtract(hist1[h1], hist2[h2])).mean())\n",
    "        mse.append(h1_mse)\n",
    "\n",
    "    res = []\n",
    "    for h1 in range(4):\n",
    "        min = 99999999999\n",
    "        index = None\n",
    "        for h2 in range(4):\n",
    "            if mse[h1][h2] < min:\n",
    "                min = mse[h1][h2]\n",
    "                index = h2\n",
    "        res.append(index)\n",
    "            \n",
    "    return (mse, res)\n"
   ]
  },
  {
   "cell_type": "markdown",
   "metadata": {},
   "source": [
    "### Draw box and line"
   ]
  },
  {
   "cell_type": "code",
   "execution_count": null,
   "metadata": {},
   "outputs": [],
   "source": [
    "rec_size = 50\n",
    "\n",
    "def draw_rectangle(src, coord):\n",
    "    colors = [(0,0,255), (255,0,0), (0,255,0), (255,255,255)]\n",
    "    t = src.copy()\n",
    "    for i in range(len(coord)):\n",
    "        t = cv2.rectangle(t, [coord[i][1]-rec_size, coord[i][0]-rec_size], [coord[i][1]+rec_size, coord[i][0]+rec_size], colors[i], 10)\n",
    "    return t\n",
    "\n",
    "rectangled = np.concatenate((draw_rectangle(image1_original, coord1), draw_rectangle(image2_original, coord2)), axis=1)"
   ]
  },
  {
   "cell_type": "code",
   "execution_count": null,
   "metadata": {},
   "outputs": [],
   "source": [
    "line_size = 10\n",
    "\n",
    "def draw_line(src, coord1, coord2, match):\n",
    "    t = src.copy()\n",
    "    for i in range(len(match)):\n",
    "        t = cv2.line(t, (coord1[i][1], coord1[i][0]), (coord2[match[i]][1] + image1_original.shape[1], coord2[match[i]][0]), color=(0,0,0), thickness=line_size)\n",
    "    return t"
   ]
  },
  {
   "cell_type": "markdown",
   "metadata": {},
   "source": [
    "Color image: NoneBlur, Gradient histogram"
   ]
  },
  {
   "cell_type": "code",
   "execution_count": null,
   "metadata": {},
   "outputs": [],
   "source": [
    "match = matching_color(hl1_CNG, hl2_CNG)\n",
    "lined = draw_line(rectangled, coord1, coord2, match[1])\n",
    "cv2.imwrite(\"res_shift/Color_NoneBlur_Gradient.jpg\", lined)"
   ]
  },
  {
   "cell_type": "markdown",
   "metadata": {},
   "source": [
    "Color image: NonBlur, Color histogram"
   ]
  },
  {
   "cell_type": "code",
   "execution_count": null,
   "metadata": {},
   "outputs": [],
   "source": [
    "match = matching_color(hl1_CNC, hl2_CNC)\n",
    "lined = draw_line(rectangled, coord1, coord2, match[1])\n",
    "cv2.imwrite(\"res_shift/Color_NoneBlur_Color.jpg\", lined)"
   ]
  },
  {
   "cell_type": "markdown",
   "metadata": {},
   "source": [
    "Color image: Blur, Gradient histogram"
   ]
  },
  {
   "cell_type": "code",
   "execution_count": null,
   "metadata": {},
   "outputs": [],
   "source": [
    "match = matching_color(hl1_CBG, hl2_CBG)\n",
    "lined = draw_line(rectangled, coord1, coord2, match[1])\n",
    "cv2.imwrite(\"res_shift/Color_Blur_Gradient.jpg\", lined)"
   ]
  },
  {
   "cell_type": "markdown",
   "metadata": {},
   "source": [
    "Color image: Blur, Color histogram"
   ]
  },
  {
   "cell_type": "code",
   "execution_count": null,
   "metadata": {},
   "outputs": [],
   "source": [
    "match = matching_color(hl1_CBC, hl2_CBC)\n",
    "lined = draw_line(rectangled, coord1, coord2, match[1])\n",
    "cv2.imwrite(\"res_shift/Color_Blur_Color.jpg\", lined)"
   ]
  },
  {
   "cell_type": "markdown",
   "metadata": {},
   "source": [
    "Gray image: NoneBlur, Gradient histogram"
   ]
  },
  {
   "cell_type": "code",
   "execution_count": null,
   "metadata": {},
   "outputs": [],
   "source": [
    "match = matching_gray(hl1_GNG, hl2_GNG)\n",
    "lined = draw_line(rectangled, coord1, coord2, match[1])\n",
    "cv2.imwrite(\"res_shift/Gray_NoneBlur_Gradient.jpg\", lined)"
   ]
  },
  {
   "cell_type": "markdown",
   "metadata": {},
   "source": [
    "Gray image: NoneBlur, Color histogram"
   ]
  },
  {
   "cell_type": "code",
   "execution_count": null,
   "metadata": {},
   "outputs": [],
   "source": [
    "match = matching_gray(hl1_GNC, hl2_GNC)\n",
    "lined = draw_line(rectangled, coord1, coord2, match[1])\n",
    "cv2.imwrite(\"res_shift/Gray_NoneBlur_Color.jpg\", lined)"
   ]
  },
  {
   "cell_type": "markdown",
   "metadata": {},
   "source": [
    "Gray image: Blur, Gradient histogram"
   ]
  },
  {
   "cell_type": "code",
   "execution_count": null,
   "metadata": {},
   "outputs": [],
   "source": [
    "match = matching_gray(hl1_GBG, hl2_GBG)\n",
    "lined = draw_line(rectangled, coord1, coord2, match[1])\n",
    "cv2.imwrite(\"res_shift/Gray_Blur_Gradient.jpg\", lined)"
   ]
  },
  {
   "cell_type": "markdown",
   "metadata": {},
   "source": [
    "Gray image: Blur, Color histogram"
   ]
  },
  {
   "cell_type": "code",
   "execution_count": null,
   "metadata": {},
   "outputs": [],
   "source": [
    "match = matching_gray(hl1_GBC, hl2_GBC)\n",
    "lined = draw_line(rectangled, coord1, coord2, match[1])\n",
    "cv2.imwrite(\"res_shift/Gray_Blur_Color.jpg\", lined)"
   ]
  }
 ],
 "metadata": {
  "interpreter": {
   "hash": "b3ba2566441a7c06988d0923437866b63cedc61552a5af99d1f4fb67d367b25f"
  },
  "kernelspec": {
   "display_name": "Python 3.9.7 ('base')",
   "language": "python",
   "name": "python3"
  },
  "language_info": {
   "codemirror_mode": {
    "name": "ipython",
    "version": 3
   },
   "file_extension": ".py",
   "mimetype": "text/x-python",
   "name": "python",
   "nbconvert_exporter": "python",
   "pygments_lexer": "ipython3",
   "version": "3.9.7"
  },
  "orig_nbformat": 4
 },
 "nbformat": 4,
 "nbformat_minor": 2
}
