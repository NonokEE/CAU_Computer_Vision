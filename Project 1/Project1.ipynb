{
 "cells": [
  {
   "cell_type": "markdown",
   "metadata": {},
   "source": [
    "# CAU Computer Vision - Project 1"
   ]
  },
  {
   "cell_type": "markdown",
   "metadata": {},
   "source": [
    "### import library"
   ]
  },
  {
   "cell_type": "code",
   "execution_count": 1,
   "metadata": {},
   "outputs": [],
   "source": [
    "import cv2\n",
    "import numpy as np\n",
    "import matplotlib.pyplot as plt"
   ]
  },
  {
   "cell_type": "code",
   "execution_count": 2,
   "metadata": {},
   "outputs": [],
   "source": [
    "def cv2_imshow(name: str, src):\n",
    "    cv2.namedWindow(name, cv2.WINDOW_NORMAL)\n",
    "    cv2.resizeWindow(name, 800, 800)\n",
    "    cv2.moveWindow(name, 500, 100)\n",
    "\n",
    "    cv2.imshow(name, src)\n",
    "    cv2.waitKey(0)\n",
    "    cv2.destroyAllWindows()"
   ]
  },
  {
   "cell_type": "markdown",
   "metadata": {},
   "source": [
    "## Click and get patch for 1st.jpg\n",
    "### Get coordinate"
   ]
  },
  {
   "cell_type": "code",
   "execution_count": 3,
   "metadata": {},
   "outputs": [],
   "source": [
    "coord1 = []\n",
    "\n",
    "def getCoord_1(event, x, y, flags, param):\n",
    "    if event == cv2.EVENT_LBUTTONDOWN:\n",
    "        coord1.append((y,x))\n",
    "        print(x, y)"
   ]
  },
  {
   "cell_type": "code",
   "execution_count": 4,
   "metadata": {},
   "outputs": [
    {
     "name": "stdout",
     "output_type": "stream",
     "text": [
      "132 1890\n",
      "1735 3619\n",
      "2979 2414\n",
      "1368 741\n"
     ]
    }
   ],
   "source": [
    "image1_original = cv2.imread(\"1st.jpg\")\n",
    "\n",
    "cv2.namedWindow(\"1st\", cv2.WINDOW_NORMAL)\n",
    "cv2.resizeWindow(\"1st\", 800, 800)\n",
    "cv2.moveWindow(\"1st\", 500, 100)\n",
    "cv2.setMouseCallback(\"1st\", getCoord_1)\n",
    "\n",
    "cv2.imshow(\"1st\", image1_original)\n",
    "cv2.waitKey(0)\n",
    "cv2.destroyAllWindows()"
   ]
  },
  {
   "cell_type": "markdown",
   "metadata": {},
   "source": [
    "### Make blurred, grayscaled images"
   ]
  },
  {
   "cell_type": "code",
   "execution_count": 10,
   "metadata": {},
   "outputs": [],
   "source": [
    "image1_blur = cv2.GaussianBlur(image1_original, (0, 0), 1)\n",
    "image1_gray = cv2.cvtColor(image1_original, cv2.COLOR_BGR2GRAY)\n",
    "image1_gb = cv2.GaussianBlur(image1_gray, (0,0), 1)\n",
    "\n",
    "# cv2_imshow(\"image1_original\", image1_original)\n",
    "# cv2_imshow(\"image1_blur\", image1_blur)\n",
    "# cv2_imshow(\"image1_gray\", image1_gray)\n",
    "# cv2_imshow(\"image1_gb\", image1_gb)"
   ]
  },
  {
   "cell_type": "markdown",
   "metadata": {},
   "source": [
    "### Make patch for each clicked points"
   ]
  },
  {
   "cell_type": "code",
   "execution_count": 12,
   "metadata": {},
   "outputs": [],
   "source": [
    "patch_size = 4\n",
    "patch1_original = [image1_original[coord1[i][0]-patch_size:coord1[i][0]+patch_size+1, coord1[i][1]-patch_size:coord1[i][1]+patch_size+1] for i in range(len(coord1))]\n",
    "patch1_blur = [image1_blur[coord1[i][0]-patch_size:coord1[i][0]+patch_size+1, coord1[i][1]-patch_size:coord1[i][1]+patch_size+1] for i in range(len(coord1))]\n",
    "patch1_gray = [image1_gray[coord1[i][0]-patch_size:coord1[i][0]+patch_size+1, coord1[i][1]-patch_size:coord1[i][1]+patch_size+1] for i in range(len(coord1))]\n",
    "patch1_gb = [image1_gb[coord1[i][0]-patch_size:coord1[i][0]+patch_size+1, coord1[i][1]-patch_size:coord1[i][1]+patch_size+1] for i in range(len(coord1))]"
   ]
  },
  {
   "cell_type": "markdown",
   "metadata": {},
   "source": [
    "### Show patches of 1st.jpg"
   ]
  },
  {
   "cell_type": "code",
   "execution_count": 13,
   "metadata": {},
   "outputs": [],
   "source": [
    "# for i in range(len(patch1_original)):\n",
    "#     wname = \"1st_\" + str(i)\n",
    "#     cv2_imshow(wname, patch1_original[i])\n",
    "\n",
    "# for i in range(len(patch1_blur)):\n",
    "#     wname = \"1st_\" + str(i)\n",
    "#     cv2_imshow(wname, patch1_blur[i])\n",
    "\n",
    "# for i in range(len(patch1_gray)):\n",
    "#     wname = \"1st_\" + str(i)\n",
    "#     cv2_imshow(wname, patch1_gray[i])\n",
    "\n",
    "# for i in range(len(patch1_gb)):\n",
    "#     wname = \"1st_\" + str(i)\n",
    "#     cv2_imshow(wname, patch1_gb[i])"
   ]
  },
  {
   "cell_type": "markdown",
   "metadata": {},
   "source": [
    "## Click and get patch for 2st.jpg\n",
    "### Get coordinate"
   ]
  },
  {
   "cell_type": "code",
   "execution_count": 14,
   "metadata": {},
   "outputs": [],
   "source": [
    "coord2 = []\n",
    "\n",
    "def getCoord_2(event, x, y, flags, param):\n",
    "    if event == cv2.EVENT_LBUTTONDOWN:\n",
    "        coord2.append((y,x))\n",
    "        print(x, y)"
   ]
  },
  {
   "cell_type": "code",
   "execution_count": 15,
   "metadata": {},
   "outputs": [
    {
     "name": "stdout",
     "output_type": "stream",
     "text": [
      "779 1109\n",
      "654 3538\n",
      "2555 3644\n",
      "2567 1109\n"
     ]
    }
   ],
   "source": [
    "image2_original = cv2.imread(\"2nd.jpg\")\n",
    "\n",
    "cv2.namedWindow(\"2nd\", cv2.WINDOW_NORMAL)\n",
    "cv2.resizeWindow(\"2nd\", 800, 800)\n",
    "cv2.moveWindow(\"2nd\", 500, 100)\n",
    "cv2.setMouseCallback(\"2nd\", getCoord_2)\n",
    "\n",
    "cv2.imshow(\"2nd\", image2_original)\n",
    "cv2.waitKey(0)\n",
    "cv2.destroyAllWindows()"
   ]
  },
  {
   "cell_type": "markdown",
   "metadata": {},
   "source": [
    "### Make blurred, grayscaled images"
   ]
  },
  {
   "cell_type": "code",
   "execution_count": 16,
   "metadata": {},
   "outputs": [],
   "source": [
    "image2_blur = cv2.GaussianBlur(image2_original, (0, 0), 1)\n",
    "image2_gray = cv2.cvtColor(image2_original, cv2.COLOR_BGR2GRAY)\n",
    "image2_gb = cv2.GaussianBlur(image2_gray, (0,0), 1)\n",
    "\n",
    "# cv2_imshow(\"image2_original\", image2_original)\n",
    "# cv2_imshow(\"image2_blur\", image2_blur)\n",
    "# cv2_imshow(\"image2_gray\", image2_gray)\n",
    "# cv2_imshow(\"image2_gb\", image2_gb)"
   ]
  },
  {
   "cell_type": "markdown",
   "metadata": {},
   "source": [
    "### Make patch for each clicked points"
   ]
  },
  {
   "cell_type": "code",
   "execution_count": 17,
   "metadata": {},
   "outputs": [],
   "source": [
    "patch_size = 4\n",
    "patch2_original = [image2_original[coord1[i][0]-patch_size:coord1[i][0]+patch_size+1, coord1[i][1]-patch_size:coord1[i][1]+patch_size+1] for i in range(len(coord1))]\n",
    "patch2_blur = [image2_blur[coord1[i][0]-patch_size:coord1[i][0]+patch_size+1, coord1[i][1]-patch_size:coord1[i][1]+patch_size+1] for i in range(len(coord1))]\n",
    "patch2_gray = [image2_gray[coord1[i][0]-patch_size:coord1[i][0]+patch_size+1, coord1[i][1]-patch_size:coord1[i][1]+patch_size+1] for i in range(len(coord1))]\n",
    "patch2_gb = [image2_gb[coord1[i][0]-patch_size:coord1[i][0]+patch_size+1, coord1[i][1]-patch_size:coord1[i][1]+patch_size+1] for i in range(len(coord1))]"
   ]
  },
  {
   "cell_type": "markdown",
   "metadata": {},
   "source": [
    "### Show patches of 2nd.jpg"
   ]
  },
  {
   "cell_type": "code",
   "execution_count": 18,
   "metadata": {},
   "outputs": [],
   "source": [
    "# for i in range(len(patch2_original)):\n",
    "#     wname = \"2nd_\" + str(i)\n",
    "#     cv2_imshow(wname, patch2_original[i])\n",
    "\n",
    "# for i in range(len(patch2_blur)):\n",
    "#     wname = \"2nd_\" + str(i)\n",
    "#     cv2_imshow(wname, patch2_blur[i])\n",
    "\n",
    "# for i in range(len(patch2_gray)):\n",
    "#     wname = \"2nd_\" + str(i)\n",
    "#     cv2_imshow(wname, patch2_gray[i])\n",
    "\n",
    "# for i in range(len(patch2_gb)):\n",
    "#     wname = \"2nd_\" + str(i)\n",
    "#     cv2_imshow(wname, patch2_gb[i])"
   ]
  },
  {
   "cell_type": "markdown",
   "metadata": {},
   "source": [
    "## Histograms"
   ]
  },
  {
   "cell_type": "code",
   "execution_count": 19,
   "metadata": {},
   "outputs": [],
   "source": [
    "hist_bin = 32"
   ]
  },
  {
   "cell_type": "markdown",
   "metadata": {},
   "source": [
    "### 1) Color images"
   ]
  },
  {
   "cell_type": "markdown",
   "metadata": {},
   "source": [
    "(1) Gradient Histogram"
   ]
  },
  {
   "cell_type": "code",
   "execution_count": 20,
   "metadata": {},
   "outputs": [],
   "source": [
    "def norm_gradient_color(src):\n",
    "    \n",
    "    x_forward = np.concatenate([src[:, 1:], src[:, -1:]], axis = 1)\n",
    "    x_backward = np.concatenate([src[:, :1], src[:, :-1]], axis = 1)\n",
    "    Dx = np.subtract(x_forward, x_backward)/2\n",
    "\n",
    "    y_forward = np.concatenate([src[1:, :], src[-1:, :]])\n",
    "    y_backward = np.concatenate([src[:1, :], src[:-1, :]])\n",
    "    Dy = np.subtract(y_forward, y_backward)/2\n",
    "\n",
    "    norm_gradient = np.sqrt(np.add(np.square(Dx), np.square(Dy)))\n",
    "    norm_gradient = np.uint8(np.around(norm_gradient))\n",
    "    \n",
    "    return norm_gradient"
   ]
  },
  {
   "cell_type": "code",
   "execution_count": 34,
   "metadata": {},
   "outputs": [],
   "source": [
    "def gradient_histogram_color(src_list):\n",
    "    hist_list = []\n",
    "\n",
    "    for i in range(len(src_list)):\n",
    "        print(f\"- {i+1}th -\")\n",
    "        temp = []\n",
    "\n",
    "        channels = cv2.split(src_list[i])\n",
    "        colors = ['b', 'g', 'r']\n",
    "\n",
    "        for ch, color in zip(channels, colors):\n",
    "            hist = cv2.calcHist([ch], [0], None, [int(256/hist_bin)], [0,360])\n",
    "            temp.append(hist)\n",
    "            plt.plot(hist, color=color)\n",
    "        plt.show()\n",
    "        hist_list.append(temp)"
   ]
  },
  {
   "cell_type": "code",
   "execution_count": null,
   "metadata": {},
   "outputs": [],
   "source": [
    "print(\"*** 1st.jpg ****\")\n",
    "hist_list_1st = gradient_histogram_color(patch1_original)\n",
    "\n",
    "print(\"*** 2nd.jpg ****\")\n",
    "hist_list_1st = gradient_histogram_color(patch2_original)"
   ]
  },
  {
   "cell_type": "markdown",
   "metadata": {},
   "source": [
    "(2) Color Histogram"
   ]
  },
  {
   "cell_type": "code",
   "execution_count": null,
   "metadata": {},
   "outputs": [],
   "source": []
  },
  {
   "cell_type": "code",
   "execution_count": null,
   "metadata": {},
   "outputs": [],
   "source": []
  },
  {
   "cell_type": "code",
   "execution_count": null,
   "metadata": {},
   "outputs": [],
   "source": []
  },
  {
   "cell_type": "markdown",
   "metadata": {},
   "source": [
    "### (1) Gradient Histogram"
   ]
  },
  {
   "cell_type": "code",
   "execution_count": null,
   "metadata": {},
   "outputs": [],
   "source": [
    "def norm_gradient(src):\n",
    "    \n",
    "    x_forward = np.concatenate([src[:, 1:], src[:, -1:]], axis = 1)\n",
    "    x_backward = np.concatenate([src[:, :1], src[:, :-1]], axis = 1)\n",
    "    Dx = np.subtract(x_forward, x_backward)/2\n",
    "\n",
    "    y_forward = np.concatenate([src[1:, :], src[-1:, :]])\n",
    "    y_backward = np.concatenate([src[:1, :], src[:-1, :]])\n",
    "    Dy = np.subtract(y_forward, y_backward)/2\n",
    "\n",
    "    norm_gradient = np.sqrt(np.add(np.square(Dx), np.square(Dy)))\n",
    "    norm_gradient = np.uint8(np.around(norm_gradient))\n",
    "    \n",
    "    return norm_gradient"
   ]
  },
  {
   "cell_type": "code",
   "execution_count": null,
   "metadata": {},
   "outputs": [],
   "source": [
    "def gradient_histogram(src_list):\n",
    "    hist_list = []\n",
    "\n",
    "    for i in range(len(src_list)):\n",
    "        print(f\"- {i+1}th -\")\n",
    "        src = cv2.cvtColor(src_list[i], cv2.COLOR_BGR2GRAY)\n",
    "        grd = norm_gradient(src)\n",
    "        hist = cv2.calcHist([grd], [0], None, [int(256/hist_bin)], [0, 360])\n",
    "        hist_list.append(hist)\n",
    "        plt.plot(hist)\n",
    "        plt.show()"
   ]
  },
  {
   "cell_type": "code",
   "execution_count": null,
   "metadata": {},
   "outputs": [],
   "source": [
    "print(\"*** 1st.jpg ****\")\n",
    "hist_list_1st = gradient_histogram(patch1)\n",
    "\n",
    "print(\"*** 2nd.jpg ****\")\n",
    "hist_list_1st = gradient_histogram(patch2)"
   ]
  },
  {
   "cell_type": "markdown",
   "metadata": {},
   "source": [
    "### (2) Brightness Histogram"
   ]
  },
  {
   "cell_type": "markdown",
   "metadata": {},
   "source": [
    "## Click and get patch for 1st.jpg\n",
    "### Get coordinate"
   ]
  },
  {
   "cell_type": "code",
   "execution_count": null,
   "metadata": {},
   "outputs": [],
   "source": [
    "src = cv2.cvtColor(patch1[0], cv2.COLOR_BGR2GRAY)\n",
    "hist = cv2.calcHist([src], [0], None, [int(256/hist_bin)], [0, 256])\n",
    "plt.plot(hist)\n",
    "plt.show()\n"
   ]
  },
  {
   "cell_type": "markdown",
   "metadata": {},
   "source": [
    "### (3) Color Histogram"
   ]
  },
  {
   "cell_type": "code",
   "execution_count": null,
   "metadata": {},
   "outputs": [],
   "source": [
    "print(\"hello\")"
   ]
  }
 ],
 "metadata": {
  "interpreter": {
   "hash": "b3ba2566441a7c06988d0923437866b63cedc61552a5af99d1f4fb67d367b25f"
  },
  "kernelspec": {
   "display_name": "Python 3.9.7 ('base')",
   "language": "python",
   "name": "python3"
  },
  "language_info": {
   "codemirror_mode": {
    "name": "ipython",
    "version": 3
   },
   "file_extension": ".py",
   "mimetype": "text/x-python",
   "name": "python",
   "nbconvert_exporter": "python",
   "pygments_lexer": "ipython3",
   "version": "3.9.7"
  },
  "orig_nbformat": 4
 },
 "nbformat": 4,
 "nbformat_minor": 2
}
