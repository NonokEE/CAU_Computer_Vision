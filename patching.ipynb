{
 "cells": [
  {
   "cell_type": "markdown",
   "metadata": {},
   "source": [
    "# CAU Computer Vision - Project 1"
   ]
  },
  {
   "cell_type": "markdown",
   "metadata": {},
   "source": [
    "### import library"
   ]
  },
  {
   "cell_type": "code",
   "execution_count": 1,
   "metadata": {},
   "outputs": [],
   "source": [
    "import cv2\n",
    "import numpy as np\n",
    "import matplotlib.pyplot as plt"
   ]
  },
  {
   "cell_type": "code",
   "execution_count": 14,
   "metadata": {},
   "outputs": [],
   "source": [
    "def cv2_imshow(name: str, src):\n",
    "    cv2.namedWindow(name, cv2.WINDOW_NORMAL)\n",
    "    cv2.resizeWindow(name, 500, 500)\n",
    "    cv2.moveWindow(name, 500, 100)\n",
    "\n",
    "    cv2.imshow(name, src)\n",
    "    cv2.waitKey(0)\n",
    "    cv2.destroyAllWindows()"
   ]
  },
  {
   "cell_type": "markdown",
   "metadata": {},
   "source": [
    "## Click and get patch for 1st.jpg\n",
    "### Get coordinate"
   ]
  },
  {
   "cell_type": "code",
   "execution_count": 2,
   "metadata": {},
   "outputs": [],
   "source": [
    "coord1 = []\n",
    "\n",
    "def getCoord_1(event, x, y, flags, param):\n",
    "    if event == cv2.EVENT_LBUTTONDOWN:\n",
    "        coord1.append((y,x))\n",
    "        print(x, y)"
   ]
  },
  {
   "cell_type": "code",
   "execution_count": 3,
   "metadata": {},
   "outputs": [
    {
     "name": "stdout",
     "output_type": "stream",
     "text": [
      "133 1900\n",
      "1733 3609\n",
      "2988 2409\n",
      "1367 731\n",
      "[(1900, 133), (3609, 1733), (2409, 2988), (731, 1367)]\n"
     ]
    }
   ],
   "source": [
    "image1_cv = cv2.imread(\"1st.jpg\")\n",
    "\n",
    "cv2.namedWindow(\"1st\", cv2.WINDOW_NORMAL)\n",
    "cv2.resizeWindow(\"1st\", 1000, 800)\n",
    "cv2.moveWindow(\"1st\", 500, 100)\n",
    "cv2.setMouseCallback(\"1st\", getCoord_1)\n",
    "\n",
    "cv2.imshow(\"1st\", image1_cv)\n",
    "cv2.waitKey(0)\n",
    "cv2.destroyAllWindows()\n",
    "\n",
    "print(coord1)"
   ]
  },
  {
   "cell_type": "markdown",
   "metadata": {},
   "source": [
    "### Make patch for each clicked points"
   ]
  },
  {
   "cell_type": "code",
   "execution_count": 4,
   "metadata": {},
   "outputs": [],
   "source": [
    "patch_size = 4\n",
    "patch1 = [image1_cv[coord1[i][0]-patch_size:coord1[i][0]+patch_size+1, coord1[i][1]-patch_size:coord1[i][1]+patch_size+1] for i in range(len(coord1))]"
   ]
  },
  {
   "cell_type": "markdown",
   "metadata": {},
   "source": [
    "### Show patches of 1st.jpg"
   ]
  },
  {
   "cell_type": "code",
   "execution_count": 5,
   "metadata": {},
   "outputs": [],
   "source": [
    "for i in range(len(patch1)):\n",
    "    wname = \"1st_\" + str(i)\n",
    "\n",
    "    cv2.namedWindow(wname, cv2.WINDOW_NORMAL)\n",
    "    cv2.resizeWindow(wname, 500, 500)\n",
    "    cv2.moveWindow(wname, 500, 100)\n",
    "\n",
    "    cv2.imshow(wname, patch1[i])\n",
    "    cv2.waitKey(0)\n",
    "    cv2.destroyAllWindows()"
   ]
  },
  {
   "cell_type": "markdown",
   "metadata": {},
   "source": [
    "## Click and get patch for 2st.jpg\n",
    "### Get coordinate"
   ]
  },
  {
   "cell_type": "code",
   "execution_count": 6,
   "metadata": {},
   "outputs": [],
   "source": [
    "coord2 = []\n",
    "\n",
    "def getCoord_2(event, x, y, flags, param):\n",
    "    if event == cv2.EVENT_LBUTTONDOWN:\n",
    "        coord2.append((y,x))\n",
    "        print(x, y)"
   ]
  },
  {
   "cell_type": "code",
   "execution_count": 7,
   "metadata": {},
   "outputs": [
    {
     "name": "stdout",
     "output_type": "stream",
     "text": [
      "786 1109\n",
      "659 3543\n",
      "2555 3654\n",
      "2567 1109\n",
      "[(1109, 786), (3543, 659), (3654, 2555), (1109, 2567)]\n"
     ]
    }
   ],
   "source": [
    "image2_cv = cv2.imread(\"2nd.jpg\")\n",
    "\n",
    "cv2.namedWindow(\"2nd\", cv2.WINDOW_NORMAL)\n",
    "cv2.resizeWindow(\"2nd\", 1000, 800)\n",
    "cv2.moveWindow(\"2nd\", 500, 100)\n",
    "cv2.setMouseCallback(\"2nd\", getCoord_2)\n",
    "\n",
    "cv2.imshow(\"2nd\", image2_cv)\n",
    "cv2.waitKey(0)\n",
    "cv2.destroyAllWindows()\n",
    "\n",
    "print(coord2)"
   ]
  },
  {
   "cell_type": "markdown",
   "metadata": {},
   "source": [
    "### Make patch for each clicked points"
   ]
  },
  {
   "cell_type": "code",
   "execution_count": 8,
   "metadata": {},
   "outputs": [],
   "source": [
    "patch_size = 4\n",
    "patch2 = [image2_cv[coord2[i][0]-patch_size:coord2[i][0]+patch_size+1, coord2[i][1]-patch_size:coord2[i][1]+patch_size+1] for i in range(len(coord2))]"
   ]
  },
  {
   "cell_type": "markdown",
   "metadata": {},
   "source": [
    "### Show patches of 2nd.jpg"
   ]
  },
  {
   "cell_type": "code",
   "execution_count": 9,
   "metadata": {},
   "outputs": [],
   "source": [
    "for i in range(len(patch2)):\n",
    "    wname = \"2nd_\" + str(i)\n",
    "\n",
    "    cv2.namedWindow(wname, cv2.WINDOW_NORMAL)\n",
    "    cv2.resizeWindow(wname, 500, 500)\n",
    "    cv2.moveWindow(wname, 500, 100)\n",
    "\n",
    "    cv2.imshow(wname, patch2[i])\n",
    "    cv2.waitKey(0)\n",
    "    cv2.destroyAllWindows()"
   ]
  },
  {
   "cell_type": "markdown",
   "metadata": {},
   "source": [
    "## Histograms"
   ]
  },
  {
   "cell_type": "code",
   "execution_count": 22,
   "metadata": {},
   "outputs": [],
   "source": [
    "hist_bin = 32"
   ]
  },
  {
   "cell_type": "markdown",
   "metadata": {},
   "source": [
    "### (1) Gradient Histrogram"
   ]
  },
  {
   "cell_type": "code",
   "execution_count": null,
   "metadata": {},
   "outputs": [],
   "source": []
  },
  {
   "cell_type": "markdown",
   "metadata": {},
   "source": [
    "### (2) Brightness Histrogram"
   ]
  },
  {
   "cell_type": "code",
   "execution_count": 23,
   "metadata": {},
   "outputs": [
    {
     "data": {
      "image/png": "[encoded data removed]",
      "text/plain": [
       "<Figure size 432x288 with 1 Axes>"
      ]
     },
     "metadata": {
      "needs_background": "light"
     },
     "output_type": "display_data"
    },
    {
     "name": "stdout",
     "output_type": "stream",
     "text": [
      "[[ 0.]\n",
      " [ 0.]\n",
      " [ 2.]\n",
      " [ 4.]\n",
      " [34.]\n",
      " [41.]\n",
      " [ 0.]\n",
      " [ 0.]]\n"
     ]
    }
   ],
   "source": [
    "src = cv2.cvtColor(patch1[0], cv2.COLOR_BGR2GRAY)\n",
    "hist = cv2.calcHist([src], [0], None, [int(256/hist_bin)], [0, 256])\n",
    "plt.plot(hist)\n",
    "plt.show()\n"
   ]
  },
  {
   "cell_type": "markdown",
   "metadata": {},
   "source": [
    "### (3) Color Histrogram"
   ]
  },
  {
   "cell_type": "code",
   "execution_count": null,
   "metadata": {},
   "outputs": [],
   "source": [
    "print(\"hello\")"
   ]
  }
 ],
 "metadata": {
  "interpreter": {
   "hash": "b3ba2566441a7c06988d0923437866b63cedc61552a5af99d1f4fb67d367b25f"
  },
  "kernelspec": {
   "display_name": "Python 3.9.7 ('base')",
   "language": "python",
   "name": "python3"
  },
  "language_info": {
   "codemirror_mode": {
    "name": "ipython",
    "version": 3
   },
   "file_extension": ".py",
   "mimetype": "text/x-python",
   "name": "python",
   "nbconvert_exporter": "python",
   "pygments_lexer": "ipython3",
   "version": "3.9.7"
  },
  "orig_nbformat": 4
 },
 "nbformat": 4,
 "nbformat_minor": 2
}
