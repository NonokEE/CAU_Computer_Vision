{
 "cells": [
  {
   "cell_type": "markdown",
   "metadata": {},
   "source": [
    "## CAU Computer Vision - Assignment 1"
   ]
  },
  {
   "cell_type": "markdown",
   "metadata": {},
   "source": [
    "### import library"
   ]
  },
  {
   "cell_type": "code",
   "execution_count": 1,
   "metadata": {},
   "outputs": [],
   "source": [
    "import cv2\n",
    "import matplotlib.image as img\n",
    "import matplotlib.pyplot as plt\n",
    "import numpy as np"
   ]
  },
  {
   "cell_type": "markdown",
   "metadata": {},
   "source": [
    "## Click and get patch for 1st.jpg\n",
    "### Get coordinate"
   ]
  },
  {
   "cell_type": "code",
   "execution_count": 2,
   "metadata": {},
   "outputs": [],
   "source": [
    "coord1 = []\n",
    "\n",
    "def getCoord_1(event, x, y, flags, param):\n",
    "    if event == cv2.EVENT_LBUTTONDOWN:\n",
    "        coord1.append((y,x))\n",
    "        print(x, y)"
   ]
  },
  {
   "cell_type": "code",
   "execution_count": 3,
   "metadata": {},
   "outputs": [
    {
     "name": "stdout",
     "output_type": "stream",
     "text": [
      "130 1900\n",
      "1727 3609\n",
      "2991 2414\n",
      "1367 741\n",
      "[(1900, 130), (3609, 1727), (2414, 2991), (741, 1367)]\n"
     ]
    }
   ],
   "source": [
    "image1_cv = cv2.imread(\"1st.jpg\")\n",
    "\n",
    "cv2.namedWindow(\"1st\", cv2.WINDOW_NORMAL)\n",
    "cv2.resizeWindow(\"1st\", 1000, 800)\n",
    "cv2.setMouseCallback(\"1st\", getCoord_1)\n",
    "\n",
    "cv2.imshow(\"1st\", image1_cv)\n",
    "cv2.waitKey(0)\n",
    "cv2.destroyAllWindows()\n",
    "\n",
    "print(coord1)"
   ]
  },
  {
   "cell_type": "markdown",
   "metadata": {},
   "source": [
    "### Make patch for each clicked points"
   ]
  },
  {
   "cell_type": "code",
   "execution_count": 6,
   "metadata": {},
   "outputs": [],
   "source": [
    "patch_size = 5\n",
    "patch1 = [image1_cv[coord1[i][0]-patch_size:coord1[i][0]+patch_size, coord1[i][1]-patch_size:coord1[i][1]+patch_size] for i in range(len(coord1))]"
   ]
  },
  {
   "cell_type": "markdown",
   "metadata": {},
   "source": [
    "### Show patches of 1st.jpg"
   ]
  },
  {
   "cell_type": "code",
   "execution_count": 7,
   "metadata": {},
   "outputs": [
    {
     "name": "stdout",
     "output_type": "stream",
     "text": [
      "10 13\n"
     ]
    }
   ],
   "source": [
    "for i in range(len(patch1)):\n",
    "    wname = \"1st_\" + str(i)\n",
    "\n",
    "    cv2.namedWindow(wname, cv2.WINDOW_NORMAL)\n",
    "    cv2.resizeWindow(wname, 500, 500)\n",
    "    cv2.setMouseCallback(wname, getCoord_1)\n",
    "\n",
    "    cv2.imshow(wname, patch1[i])\n",
    "    cv2.waitKey(0)\n",
    "    cv2.destroyAllWindows()"
   ]
  }
 ],
 "metadata": {
  "interpreter": {
   "hash": "b3ba2566441a7c06988d0923437866b63cedc61552a5af99d1f4fb67d367b25f"
  },
  "kernelspec": {
   "display_name": "Python 3.9.7 ('base')",
   "language": "python",
   "name": "python3"
  },
  "language_info": {
   "codemirror_mode": {
    "name": "ipython",
    "version": 3
   },
   "file_extension": ".py",
   "mimetype": "text/x-python",
   "name": "python",
   "nbconvert_exporter": "python",
   "pygments_lexer": "ipython3",
   "version": "3.9.7"
  },
  "orig_nbformat": 4
 },
 "nbformat": 4,
 "nbformat_minor": 2
}
